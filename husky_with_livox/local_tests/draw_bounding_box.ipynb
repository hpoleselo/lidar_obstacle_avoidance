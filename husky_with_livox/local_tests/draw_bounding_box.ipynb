{
 "cells": [
  {
   "cell_type": "code",
   "execution_count": 11,
   "metadata": {},
   "outputs": [
    {
     "name": "stdout",
     "output_type": "stream",
     "text": [
      "--- Checking if point cloud limits match the bounding box from Open3D so we can draw it in RVIZ: ---\n",
      "\n",
      "Point Clound Boundaries from Numpy:\n",
      "Min: [0.0, -2.744417190551758, -0.30541232228279114]\n",
      "Max:[5.279177188873291, 3.1230902671813965, 0.7397125363349915]\n",
      "\n",
      "Bounding Box From Open3D: AxisAlignedBoundingBox: min: (0, -2.74442, -0.305412), max: (5.27918, 3.12309, 0.739713)\n",
      "(1, 3)\n"
     ]
    }
   ],
   "source": [
    "import numpy as np\n",
    "import open3d as o3d\n",
    "from pandas import DataFrame\n",
    "\n",
    "def visualize_pcd(pcd: list):\n",
    "    \"\"\"\n",
    "    Visualize it in Open3D interface.\n",
    "    pcd: list. Must be passed in a list format, if wished multiple\n",
    "    point clouds can be passe.  \n",
    "    \"\"\"\n",
    "    o3d.visualization.draw_geometries(pcd,\n",
    "                                    zoom=0.49,\n",
    "                                    front=[-0.4999, -0.1659, -0.8499],\n",
    "                                    lookat=[2.1813, 2.0619, 2.0999],\n",
    "                                    up=[0.1204, -0.9852, 0.1215])\n",
    "\n",
    "def get_bounding_box_vertices(cluster_point_cloud):\n",
    "    \"\"\"\n",
    "    Gets each cluster min/max in order to draw each cluster a bounding box\n",
    "    This function will be used by both Open3D and RVIZ\n",
    "    \"\"\"\n",
    "    pc_points = np.asarray(cluster_point_cloud.points)\n",
    "    print(f\"--- Checking if point cloud limits match the bounding box from Open3D so we can draw it in RVIZ: ---\")\n",
    "\n",
    "    x_max, y_max, z_max = pc_points.max(axis=0)\n",
    "    x_min, y_min, z_min = pc_points.min(axis=0)\n",
    "    x_y_z_max = [x_max, y_max, z_max]\n",
    "    x_y_z_min = [x_min, y_min, z_min]\n",
    "    print(\"\\nPoint Clound Boundaries from Numpy:\")\n",
    "    print(f\"Min: {x_y_z_min}\\nMax:{x_y_z_max}\")\n",
    "\n",
    "    #print(\"\\nWrong Bounding Box Boundaries:\")\n",
    "    #print(f\"Min: ({x_min_wrong}, {y_min_wrong},{z_min_wrong})\\nMax:({x_max_wrong}, {y_max_wrong}, {z_max_wrong})\")\n",
    "    bounding_box = cluster_point_cloud.get_axis_aligned_bounding_box()\n",
    "    print(f\"\\nBounding Box From Open3D: {np.asarray(bounding_box)}\")\n",
    "\n",
    "    # Another approach to get min/max but using Dataframe\n",
    "    df = DataFrame(pc_points)\n",
    "    x_y_z_min_df = (df[0].min(), df[1].min(), df[2].min())\n",
    "    x_y_z_max_df = (df[0].max(), df[1].max(), df[2].max())\n",
    "  \n",
    "\n",
    "    return x_y_z_max, x_y_z_min\n",
    "\n",
    "pcd = o3d.io.read_point_cloud(\"wall_table_chair.pcd\")\n",
    "x_y_z_max, x_y_z_min = get_bounding_box_vertices(pcd)\n",
    "\n",
    "# Draw min points in the PCL\n",
    "bounding_box_spawn_position = o3d.geometry.PointCloud()\n",
    "\n",
    "# Has to be (N, 3)\n",
    "bbox_origin = np.array([x_y_z_min])\n",
    "\n",
    "bounding_box_spawn_position.points = o3d.utility.Vector3dVector(bbox_origin)\n",
    "\n",
    "# Point will be red\n",
    "bounding_box_spawn_position.paint_uniform_color([1.0, 0.0, 0.0])\n",
    "\n",
    "visualize_pcd([pcd, bounding_box_spawn_position])\n",
    "\n"
   ]
  },
  {
   "cell_type": "code",
   "execution_count": 3,
   "metadata": {},
   "outputs": [
    {
     "name": "stdout",
     "output_type": "stream",
     "text": [
      "Let's define some primitives\n"
     ]
    }
   ],
   "source": [
    "import open3d as o3d\n",
    "\n",
    "def visualize_pcd(pcd: list):\n",
    "    \"\"\"\n",
    "    Visualize it in Open3D interface.\n",
    "    pcd: list. Must be passed in a list format, if wished multiple\n",
    "    point clouds can be passe.  \n",
    "    \"\"\"\n",
    "    o3d.visualization.draw_geometries(pcd,\n",
    "                                    zoom=0.49,\n",
    "                                    front=[-0.4999, -0.1659, -0.8499],\n",
    "                                    lookat=[2.1813, 2.0619, 2.0999],\n",
    "                                    up=[0.1204, -0.9852, 0.1215])\n",
    "\n",
    "print(\"Drawing a box...\")\n",
    "mesh_box = o3d.geometry.TriangleMesh.create_box(width=1.0,\n",
    "                                                height=1.0,\n",
    "                                                depth=1.0)\n",
    "\n",
    "visualize_pcd([mesh_box])"
   ]
  },
  {
   "cell_type": "code",
   "execution_count": null,
   "metadata": {},
   "outputs": [],
   "source": [
    "import open3d as o3d\n",
    "\n",
    "def visualize_pcd(pcd: list):\n",
    "    \"\"\"\n",
    "    Visualize it in Open3D interface.\n",
    "    pcd: list. Must be passed in a list format, if wished multiple\n",
    "    point clouds can be passe.  \n",
    "    \"\"\"\n",
    "    o3d.visualization.draw_geometries(pcd,\n",
    "                                    zoom=0.49,\n",
    "                                    front=[-0.4999, -0.1659, -0.8499],\n",
    "                                    lookat=[2.1813, 2.0619, 2.0999],\n",
    "                                    up=[0.1204, -0.9852, 0.1215])\n",
    "\n",
    "print(\"Drawing a box...\")\n",
    "mesh_box = o3d.geometry.TriangleMesh.create_box(width=1.0,\n",
    "                                                height=1.0,\n",
    "                                                depth=1.0)"
   ]
  }
 ],
 "metadata": {
  "kernelspec": {
   "display_name": "Python 3.8.10 64-bit",
   "language": "python",
   "name": "python3"
  },
  "language_info": {
   "codemirror_mode": {
    "name": "ipython",
    "version": 3
   },
   "file_extension": ".py",
   "mimetype": "text/x-python",
   "name": "python",
   "nbconvert_exporter": "python",
   "pygments_lexer": "ipython3",
   "version": "3.8.10"
  },
  "orig_nbformat": 4,
  "vscode": {
   "interpreter": {
    "hash": "916dbcbb3f70747c44a77c7bcd40155683ae19c65e1c03b4aa3499c5328201f1"
   }
  }
 },
 "nbformat": 4,
 "nbformat_minor": 2
}
