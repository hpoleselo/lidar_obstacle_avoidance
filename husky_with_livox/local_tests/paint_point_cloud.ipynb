{
 "cells": [
  {
   "cell_type": "code",
   "execution_count": 35,
   "metadata": {},
   "outputs": [
    {
     "name": "stdout",
     "output_type": "stream",
     "text": [
      "Initial PC Size: (40000, 3)\n",
      "Red Box Points Size: 20000\n",
      "Green Box Points Size: 20000\n"
     ]
    }
   ],
   "source": [
    "import numpy as np\n",
    "import open3d as o3d\n",
    "from collections import deque\n",
    "\n",
    "def visualize_pcd(pcd):\n",
    "    o3d.visualization.draw_geometries(pcd,\n",
    "                                    zoom=0.49,\n",
    "                                    front=[-0.4999, -0.1659, -0.8499],\n",
    "                                    lookat=[2.1813, 2.0619, 2.0999],\n",
    "                                    up=[0.1204, -0.9852, 0.1215])\n",
    "\n",
    "test_data_path = \"wall_table_chair.pcd\"\n",
    "\n",
    "pcd = o3d.io.read_point_cloud(test_data_path)\n",
    "\n",
    "box_points = np.asarray(pcd.points)\n",
    "print(f\"Initial PC Size: {box_points.shape}\")\n",
    "\n",
    "box_points_green = deque()\n",
    "box_points_red = deque()\n",
    "\n",
    "# Split the mesh box points in two so that we draw only half of the points\n",
    "for i in range(0, box_points.shape[0]):\n",
    "    if i >= box_points.shape[0]/2:\n",
    "        box_points_red.append(box_points[i])\n",
    "    else:\n",
    "        box_points_green.append((box_points[i]))\n",
    "\n",
    "print(f\"Red Box Points Size: {len(box_points_red)}\")\n",
    "print(f\"Green Box Points Size: {len(box_points_green)}\")\n",
    "\n",
    "# Create two new objects that we'll assign half of the points\n",
    "# and then paint in one color\n",
    "cluster_1 = o3d.geometry.PointCloud()\n",
    "cluster_1.points = o3d.utility.Vector3dVector(box_points_red)\n",
    "\n",
    "cluster_2 = o3d.geometry.PointCloud()\n",
    "cluster_2.points = o3d.utility.Vector3dVector(box_points_green)\n",
    "\n",
    "cluster_1.paint_uniform_color([1.0, 0, 0])\n",
    "cluster_2.paint_uniform_color([0.0, 0, 1.0])\n",
    "\n",
    "visualize_pcd([cluster_1, cluster_2])\n",
    "\n",
    "\n",
    "\n",
    "\n",
    "\n",
    "\n"
   ]
  }
 ],
 "metadata": {
  "kernelspec": {
   "display_name": "Python 3.8.10 64-bit",
   "language": "python",
   "name": "python3"
  },
  "language_info": {
   "codemirror_mode": {
    "name": "ipython",
    "version": 3
   },
   "file_extension": ".py",
   "mimetype": "text/x-python",
   "name": "python",
   "nbconvert_exporter": "python",
   "pygments_lexer": "ipython3",
   "version": "3.8.10"
  },
  "orig_nbformat": 4,
  "vscode": {
   "interpreter": {
    "hash": "916dbcbb3f70747c44a77c7bcd40155683ae19c65e1c03b4aa3499c5328201f1"
   }
  }
 },
 "nbformat": 4,
 "nbformat_minor": 2
}
