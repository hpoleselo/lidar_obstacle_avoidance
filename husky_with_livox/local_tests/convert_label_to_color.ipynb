{
 "cells": [
  {
   "cell_type": "code",
   "execution_count": 14,
   "metadata": {},
   "outputs": [
    {
     "name": "stdout",
     "output_type": "stream",
     "text": [
      "[0.05, 0.05, 0.05, 0.05, 0.1, 0.1, 0.1, 0.0, 0.0, 0.0, 0.0, 0.0]\n"
     ]
    }
   ],
   "source": [
    "labels = [1, 1, 1, 1, 2, 2, 2, 0, 0, 0, 0, 0]\n",
    "colored_labels = []\n",
    "for label in labels:\n",
    "    colored_labels.append(label/20)\n",
    "print(colored_labels)"
   ]
  },
  {
   "cell_type": "code",
   "execution_count": 8,
   "metadata": {},
   "outputs": [
    {
     "data": {
      "text/plain": [
       "[0.05, 0.05, 0.05, 0.05, 0.1, 0.1, 0.1, 0.0, 0.0, 0.0, 0.0, 0.0]"
      ]
     },
     "execution_count": 8,
     "metadata": {},
     "output_type": "execute_result"
    }
   ],
   "source": [
    "def map_label_to_color(label: int) -> float:\n",
    "    \"\"\"\n",
    "    Maps a label (that usually is an int number) and returns a number between 0.0 and 1.0.\n",
    "    \"\"\"\n",
    "    return label/20\n",
    "\n",
    "labels = [1, 1, 1, 1, 2, 2, 2, 0, 0, 0, 0, 0]\n",
    "\n",
    "converted = map(map_label_to_color, labels)\n",
    "list(converted)"
   ]
  },
  {
   "cell_type": "code",
   "execution_count": 39,
   "metadata": {},
   "outputs": [
    {
     "name": "stdout",
     "output_type": "stream",
     "text": [
      "(3, 3)\n"
     ]
    },
    {
     "data": {
      "text/plain": [
       "'reshaped_array = new_array.reshape(len(new_array), 3)\\nreshaped_array.shape\\nreshaped_array'"
      ]
     },
     "execution_count": 39,
     "metadata": {},
     "output_type": "execute_result"
    }
   ],
   "source": [
    "\"\"\"\n",
    "Converting data points stored as individual lists to a full pcd (numpy array.)\n",
    "\"\"\"\n",
    "\n",
    "import numpy as np\n",
    "from collections import deque\n",
    "\n",
    "lixta = [0.1, 0.05, 0.2]\n",
    "lixta2 = lixta.copy()\n",
    "lixta3 = lixta.copy()\n",
    "\n",
    "list_of_lixtas = [lixta, lixta2, lixta3]\n",
    "\n",
    "# As it's inefficient to append dynamically to a numpy array, we create a deque\n",
    "# Which is a linked list\n",
    "pc_list = deque()\n",
    "\n",
    "for data_point in list_of_lixtas:\n",
    "    pc_list.append(data_point)\n",
    "\n",
    "pc = np.array(pc_list)\n",
    "print(pc.shape)\n",
    "\n",
    "\"\"\"reshaped_array = new_array.reshape(len(new_array), 3)\n",
    "reshaped_array.shape\n",
    "reshaped_array\"\"\"\n"
   ]
  }
 ],
 "metadata": {
  "kernelspec": {
   "display_name": "Python 3.8.10 64-bit",
   "language": "python",
   "name": "python3"
  },
  "language_info": {
   "codemirror_mode": {
    "name": "ipython",
    "version": 3
   },
   "file_extension": ".py",
   "mimetype": "text/x-python",
   "name": "python",
   "nbconvert_exporter": "python",
   "pygments_lexer": "ipython3",
   "version": "3.8.10"
  },
  "orig_nbformat": 4,
  "vscode": {
   "interpreter": {
    "hash": "31f2aee4e71d21fbe5cf8b01ff0e069b9275f58929596ceb00d14d90e3e16cd6"
   }
  }
 },
 "nbformat": 4,
 "nbformat_minor": 2
}
